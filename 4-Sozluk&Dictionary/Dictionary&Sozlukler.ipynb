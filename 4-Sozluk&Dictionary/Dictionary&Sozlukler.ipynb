{
 "cells": [
  {
   "cell_type": "code",
   "execution_count": 1,
   "id": "6991117d",
   "metadata": {},
   "outputs": [],
   "source": [
    "# Sözlükler key - value çiftlerinden oluşan veri yapılarıdır.\n",
    "# Sözlükler, listelerden farklı olarak sıralı değildir.\n",
    "# Sözlüklerdeki veriler, anahtar (key) ve değer (value) çiftleri olarak saklanır."
   ]
  },
  {
   "cell_type": "code",
   "execution_count": 2,
   "id": "834e9c9a",
   "metadata": {},
   "outputs": [],
   "source": [
    "fruit_list = [\"elma\", \"armut\", \"muz\", \"çilek\"]\n"
   ]
  },
  {
   "cell_type": "code",
   "execution_count": null,
   "id": "7f115752",
   "metadata": {},
   "outputs": [],
   "source": [
    "calories = [100,150,200,50] # bu şekilde tanımlama yapmak yerine sözlük kullanabiliriz. aşağıdaki gibi"
   ]
  },
  {
   "cell_type": "code",
   "execution_count": 2,
   "id": "a89e2477",
   "metadata": {},
   "outputs": [],
   "source": [
    "fitness_dict = { \"elma\": 100, \"armut\": 150, \"muz\": 200, \"çilek\": 50 }"
   ]
  },
  {
   "cell_type": "code",
   "execution_count": 5,
   "id": "156a50d2",
   "metadata": {},
   "outputs": [
    {
     "data": {
      "text/plain": [
       "dict"
      ]
     },
     "execution_count": 5,
     "metadata": {},
     "output_type": "execute_result"
    }
   ],
   "source": [
    "type(fitness_dict) # sözlük veri tipini gösterir"
   ]
  },
  {
   "cell_type": "code",
   "execution_count": 7,
   "id": "f8bbf90b",
   "metadata": {},
   "outputs": [],
   "source": [
    "#fitness_dict[0] # bu şekilde erişim yapamayız çünkü sözlükler sıralı değildir. key ile erişim yapmalıyız."
   ]
  },
  {
   "cell_type": "code",
   "execution_count": 8,
   "id": "8dbba0ab",
   "metadata": {},
   "outputs": [
    {
     "data": {
      "text/plain": [
       "100"
      ]
     },
     "execution_count": 8,
     "metadata": {},
     "output_type": "execute_result"
    }
   ],
   "source": [
    "fitness_dict[\"elma\"] # elmanın fitness değerini alır"
   ]
  },
  {
   "cell_type": "code",
   "execution_count": 9,
   "id": "3e1e02f9",
   "metadata": {},
   "outputs": [
    {
     "data": {
      "text/plain": [
       "200"
      ]
     },
     "execution_count": 9,
     "metadata": {},
     "output_type": "execute_result"
    }
   ],
   "source": [
    "fitness_dict[\"muz\"] # muzun fitness değerini alır"
   ]
  },
  {
   "cell_type": "code",
   "execution_count": 10,
   "id": "9d94f1f0",
   "metadata": {},
   "outputs": [
    {
     "data": {
      "text/plain": [
       "dict_keys(['elma', 'armut', 'muz', 'çilek'])"
      ]
     },
     "execution_count": 10,
     "metadata": {},
     "output_type": "execute_result"
    }
   ],
   "source": [
    "fitness_dict.keys() # sözlükteki anahtarları alır"
   ]
  },
  {
   "cell_type": "code",
   "execution_count": 11,
   "id": "afed8ad3",
   "metadata": {},
   "outputs": [
    {
     "data": {
      "text/plain": [
       "dict_values([100, 150, 200, 50])"
      ]
     },
     "execution_count": 11,
     "metadata": {},
     "output_type": "execute_result"
    }
   ],
   "source": [
    "fitness_dict.values() # sözlükteki değerleri alır"
   ]
  },
  {
   "cell_type": "code",
   "execution_count": 12,
   "id": "472e903e",
   "metadata": {},
   "outputs": [],
   "source": [
    "# fitness_dict.values() b u değeri listeye çevirmek istersek list() fonksiyonunu kullanabiliriz."
   ]
  },
  {
   "cell_type": "code",
   "execution_count": 20,
   "id": "2f7ca6e7",
   "metadata": {},
   "outputs": [
    {
     "data": {
      "text/plain": [
       "{'elma': 100, 'armut': 150, 'muz': 200, 'çilek': 50}"
      ]
     },
     "execution_count": 20,
     "metadata": {},
     "output_type": "execute_result"
    }
   ],
   "source": [
    "fitness_dict"
   ]
  },
  {
   "cell_type": "code",
   "execution_count": 25,
   "id": "a7fb095e",
   "metadata": {},
   "outputs": [],
   "source": [
    "fitness_dict[\"elma\"] = 150 # elmanın fitness değerini günceller"
   ]
  },
  {
   "cell_type": "code",
   "execution_count": 27,
   "id": "8d07e70d",
   "metadata": {},
   "outputs": [],
   "source": [
    "fitness_dict[\"kavun\"] = 215 # sözlüğe yeni bir anahtar-değer çifti ekler"
   ]
  },
  {
   "cell_type": "code",
   "execution_count": 28,
   "id": "c76f2dde",
   "metadata": {},
   "outputs": [
    {
     "data": {
      "text/plain": [
       "150"
      ]
     },
     "execution_count": 28,
     "metadata": {},
     "output_type": "execute_result"
    }
   ],
   "source": [
    "fitness_dict.get(\"elma\") # elmanın fitness değerini alır, eğer anahtar yoksa None döner"
   ]
  },
  {
   "cell_type": "code",
   "execution_count": 29,
   "id": "439518d8",
   "metadata": {},
   "outputs": [
    {
     "data": {
      "text/plain": [
       "'Anahtar bulunamadı'"
      ]
     },
     "execution_count": 29,
     "metadata": {},
     "output_type": "execute_result"
    }
   ],
   "source": [
    "fitness_dict.get(\"arm\", \"Anahtar bulunamadı\") # armut anahtarı yoksa \"Anahtar bulunamadı\" mesajını döner"
   ]
  },
  {
   "cell_type": "code",
   "execution_count": 3,
   "id": "bff5bdab",
   "metadata": {},
   "outputs": [
    {
     "data": {
      "text/plain": [
       "dict_values([100, 150, 200, 50])"
      ]
     },
     "execution_count": 3,
     "metadata": {},
     "output_type": "execute_result"
    }
   ],
   "source": [
    "fitness_dict.values() # sözlükteki tüm değerleri alır"
   ]
  },
  {
   "cell_type": "code",
   "execution_count": 4,
   "id": "3cc9591a",
   "metadata": {},
   "outputs": [
    {
     "data": {
      "text/plain": [
       "[100, 150, 200, 50]"
      ]
     },
     "execution_count": 4,
     "metadata": {},
     "output_type": "execute_result"
    }
   ],
   "source": [
    "# list(fitness_dict.values()) # sözlükteki tüm değerleri listeye çevirir\n",
    "list(fitness_dict.values()) # sözlükteki tüm değerleri listeye çevirir"
   ]
  },
  {
   "cell_type": "code",
   "execution_count": 5,
   "id": "10ddf11b",
   "metadata": {},
   "outputs": [],
   "source": [
    "list_cevir = list(fitness_dict.values()) # sözlükteki tüm değerleri listeye çevirir"
   ]
  },
  {
   "cell_type": "code",
   "execution_count": 6,
   "id": "9504e7db",
   "metadata": {},
   "outputs": [
    {
     "data": {
      "text/plain": [
       "[100, 150, 200, 50]"
      ]
     },
     "execution_count": 6,
     "metadata": {},
     "output_type": "execute_result"
    }
   ],
   "source": [
    "list_cevir"
   ]
  },
  {
   "cell_type": "code",
   "execution_count": 7,
   "id": "fa547f91",
   "metadata": {},
   "outputs": [
    {
     "data": {
      "text/plain": [
       "list"
      ]
     },
     "execution_count": 7,
     "metadata": {},
     "output_type": "execute_result"
    }
   ],
   "source": [
    "type(list_cevir) # listenin veri tipini gösterir"
   ]
  },
  {
   "cell_type": "code",
   "execution_count": 12,
   "id": "f4252b3e",
   "metadata": {},
   "outputs": [
    {
     "data": {
      "text/plain": [
       "125.0"
      ]
     },
     "execution_count": 12,
     "metadata": {},
     "output_type": "execute_result"
    }
   ],
   "source": [
    "ortalama = sum(list_cevir) / len(list_cevir) # listenin ortalamasını alır. Sum fonksiyonu ile listenin toplamını alır, len fonksiyonu ile listenin uzunluğunu alır ve toplamı uzunluğa böler.\n",
    "ortalama # ortalamayı gösterir"
   ]
  },
  {
   "cell_type": "code",
   "execution_count": 3,
   "id": "f586b1c1",
   "metadata": {},
   "outputs": [
    {
     "data": {
      "text/plain": [
       "{'elma': 100, 'armut': 150, 'muz': 200, 'çilek': 50}"
      ]
     },
     "execution_count": 3,
     "metadata": {},
     "output_type": "execute_result"
    }
   ],
   "source": [
    "fitness_dict"
   ]
  },
  {
   "cell_type": "code",
   "execution_count": 4,
   "id": "8cba6e61",
   "metadata": {},
   "outputs": [],
   "source": [
    "my_dictionary ={100: \"elma\", 150: \"armut\", 200: \"muz\", 50: \"çilek\"} # anahtarlar değerler, değerler anahtarlar olarak tanımlanır. Bu şekilde de sözlük oluşturabiliriz."
   ]
  },
  {
   "cell_type": "code",
   "execution_count": 5,
   "id": "3e3bf024",
   "metadata": {},
   "outputs": [
    {
     "data": {
      "text/plain": [
       "'elma'"
      ]
     },
     "execution_count": 5,
     "metadata": {},
     "output_type": "execute_result"
    }
   ],
   "source": [
    "my_dictionary[100] # 100 anahtarının değerini alır"
   ]
  },
  {
   "cell_type": "code",
   "execution_count": 6,
   "id": "03ee40a1",
   "metadata": {},
   "outputs": [],
   "source": [
    "# Sözlüklerde hepsi sting olarak tanımlanabilir. Yani anahtarlar ve değerler string olarak tanımlanabilir.\n",
    "my_dictionary = {\"elma\":\"armut\", \"armut\":\"muz\", \"muz\":\"çilek\", \"çilek\":\"elma\"} # anahtarlar ve değerler string olarak tanımlanır."
   ]
  },
  {
   "cell_type": "code",
   "execution_count": 8,
   "id": "b3a12b74",
   "metadata": {},
   "outputs": [
    {
     "data": {
      "text/plain": [
       "'armut'"
      ]
     },
     "execution_count": 8,
     "metadata": {},
     "output_type": "execute_result"
    }
   ],
   "source": [
    "my_dictionary[\"elma\"]   # elmanın değerini alır\n"
   ]
  },
  {
   "cell_type": "code",
   "execution_count": 9,
   "id": "d8ce6f46",
   "metadata": {},
   "outputs": [
    {
     "data": {
      "text/plain": [
       "'muz'"
      ]
     },
     "execution_count": 9,
     "metadata": {},
     "output_type": "execute_result"
    }
   ],
   "source": [
    "my_dictionary[\"armut\"]   # armutun değerini alır"
   ]
  },
  {
   "cell_type": "code",
   "execution_count": 10,
   "id": "125db7bb",
   "metadata": {},
   "outputs": [],
   "source": [
    "my_mixed_dict ={\"elma\":100, \"armut\":3.14, \"muz\":True, \"çilek\":[1,2,3]} # anahtarlar string, değerler farklı veri tiplerinde olabilir. Sözlüklerde farklı veri tipleri kullanılabilir."
   ]
  },
  {
   "cell_type": "code",
   "execution_count": 11,
   "id": "c034af5d",
   "metadata": {},
   "outputs": [
    {
     "data": {
      "text/plain": [
       "100"
      ]
     },
     "execution_count": 11,
     "metadata": {},
     "output_type": "execute_result"
    }
   ],
   "source": [
    "my_mixed_dict[\"elma\"] # elmanın değerini alır"
   ]
  },
  {
   "cell_type": "code",
   "execution_count": 12,
   "id": "95b8071e",
   "metadata": {},
   "outputs": [
    {
     "data": {
      "text/plain": [
       "2"
      ]
     },
     "execution_count": 12,
     "metadata": {},
     "output_type": "execute_result"
    }
   ],
   "source": [
    "my_mixed_dict[\"çilek\"][1] # çilek anahtarının değerinin 1. indeksini alır, yani 2'yi alır"
   ]
  },
  {
   "cell_type": "code",
   "execution_count": 13,
   "id": "acb6e72e",
   "metadata": {},
   "outputs": [],
   "source": [
    "last_dict = {\"k1\":10,\"k2\":[10,20,30,40,50],\"k3\":\"string\",\"k4\":{\"a\":100,\"b\":200}} # iç içe sözlük örneği"
   ]
  },
  {
   "cell_type": "code",
   "execution_count": 15,
   "id": "798f6c5e",
   "metadata": {},
   "outputs": [
    {
     "data": {
      "text/plain": [
       "200"
      ]
     },
     "execution_count": 15,
     "metadata": {},
     "output_type": "execute_result"
    }
   ],
   "source": [
    "last_dict[\"k4\"][\"b\"] # iç içe sözlükteki b anahtarının değerini alır. k4 sözlük olduğu için indexleme yapamayız, anahtar ile erişim yapmalıyız. [\"k4\"][\"b\"] şeklinde erişim yaparız."
   ]
  },
  {
   "cell_type": "code",
   "execution_count": 16,
   "id": "94b1b652",
   "metadata": {},
   "outputs": [
    {
     "data": {
      "text/plain": [
       "40"
      ]
     },
     "execution_count": 16,
     "metadata": {},
     "output_type": "execute_result"
    }
   ],
   "source": [
    "last_dict[\"k2\"][3] # k2 anahtarının değerinin 3. indeksini alır, yani 40'ı alır. \"k2\" anahtarı bir liste olduğu için indeksleme yapabiliriz. [\"k2\"][3] şeklinde erişim yaparız."
   ]
  },
  {
   "cell_type": "code",
   "execution_count": null,
   "id": "65695713",
   "metadata": {},
   "outputs": [],
   "source": []
  }
 ],
 "metadata": {
  "kernelspec": {
   "display_name": "base",
   "language": "python",
   "name": "python3"
  },
  "language_info": {
   "codemirror_mode": {
    "name": "ipython",
    "version": 3
   },
   "file_extension": ".py",
   "mimetype": "text/x-python",
   "name": "python",
   "nbconvert_exporter": "python",
   "pygments_lexer": "ipython3",
   "version": "3.13.5"
  }
 },
 "nbformat": 4,
 "nbformat_minor": 5
}
