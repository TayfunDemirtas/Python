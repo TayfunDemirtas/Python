{
 "cells": [
  {
   "cell_type": "code",
   "execution_count": 2,
   "id": "8bf5bdaa",
   "metadata": {},
   "outputs": [],
   "source": [
    "mytuples = (10,\"a\",\"b\",3.14)"
   ]
  },
  {
   "cell_type": "code",
   "execution_count": 3,
   "id": "2108baba",
   "metadata": {},
   "outputs": [
    {
     "data": {
      "text/plain": [
       "tuple"
      ]
     },
     "execution_count": 3,
     "metadata": {},
     "output_type": "execute_result"
    }
   ],
   "source": [
    "type(mytuples) # Tuple'lar değiştirilemez (immutable) veri tipleridir. Veri eklendiğinde veya silindiğinde hata verir. Eklenemez veya silinemezler.\n",
    "# Tuple'lar da indexleme ve dilimleme işlemleri yapılabilir."
   ]
  },
  {
   "cell_type": "code",
   "execution_count": 3,
   "id": "eb5bd48e",
   "metadata": {},
   "outputs": [
    {
     "name": "stdout",
     "output_type": "stream",
     "text": [
      "10\n",
      "a\n",
      "b\n",
      "3.14\n"
     ]
    }
   ],
   "source": [
    "# Tuple'ların elemanlarına erişim\n",
    "print(mytuples[0])  # 10\n",
    "print(mytuples[1])  # \"a\"\n",
    "print(mytuples[2])  # \"b\"\n",
    "print(mytuples[3])  # 3.14"
   ]
  },
  {
   "cell_type": "code",
   "execution_count": 5,
   "id": "fcdd2c6f",
   "metadata": {},
   "outputs": [],
   "source": [
    "# Tuple'ların uzunluğu\n",
    "#print(len(mytuples))  # 4\n",
    "# Tuple'lar da stringler gibi dilimlenebilir\n",
    "#print(mytuples[1:3])  # (\"a\", \"b\")\n",
    "# Tuple'lar da stringler gibi tersine çevrilebilir\n",
    "#print(mytuples[::-1])  # (3.14, \"b\", \"a\", 10)\n",
    "# Tuple'lar da stringler gibi birleştirilebilir\n",
    "#mytuples2 = (1, 2, 3)\n",
    "#print(mytuples + mytuples2)  # (10, \"a\", \"b\", 3.14, 1, 2, 3)\n",
    "# Tuple'lar da stringler gibi tekrar edilebilir\n",
    "#print(mytuples * 2)  # (10, \"a\", \"b\", 3.14, 10, \"a\", \"b\", 3.14)\n",
    "# Tuple'lar da stringler gibi \"in\" operatörü ile kontrol edilebilir\n",
    "#print(\"a\" in mytuples)  # True\n",
    "#print(5 in mytuples)  # False\n",
    "# Tuple'lar da stringler gibi \"not in\" operatörü ile kontrol edilebilir\n",
    "#print(\"a\" not in mytuples)  # False\n",
    "#print(5 not in mytuples)  # True\n",
    "# Tuple'lar da stringler gibi \"count\" ve \"index\" metodları ile kullanılabilir\n",
    "#print(mytuples.count(\"a\"))  # 1\n",
    "#print(mytuples.index(\"b\"))  # 2\n",
    "# Tuple'lar da stringler gibi \"min\" ve \"max\" fonksiyonları ile kullanılabilir\n",
    "#print(min(mytuples))  # 3.14 (karşılaştırma yaparken stringler ve sayılar arasında hata verebilir)\n",
    "#print(max(mytuples))  # 10\n",
    "# Tuple'lar da stringler gibi \"sum\" fonksiyonu ile kullanılabilir (sadece sayılar için)\n",
    "# print(sum(mytuples))  # TypeError: unsupported operand type(s) for +: 'int' and 'str'\n",
    "# Tuple'lar da stringler gibi \"sorted\" fonksiyonu ile sıralanabilir (sadece sayılar için)   \n",
    "# Tuple'larda içeriğindeki verileri değiştirmek için tuple list'e dönüştürülüp değişiklik yapıldıktan sonra tekrar tuple'a dönüştürülebilir.\n",
    "myList = list(mytuples)"
   ]
  },
  {
   "cell_type": "code",
   "execution_count": 6,
   "id": "57e511dd",
   "metadata": {},
   "outputs": [
    {
     "data": {
      "text/plain": [
       "[10, 'a', 'b', 3.14]"
      ]
     },
     "execution_count": 6,
     "metadata": {},
     "output_type": "execute_result"
    }
   ],
   "source": [
    "myList"
   ]
  },
  {
   "cell_type": "code",
   "execution_count": 7,
   "id": "952db6bc",
   "metadata": {},
   "outputs": [],
   "source": [
    "myList[0] = 20  # İlk elemanı değiştirme"
   ]
  },
  {
   "cell_type": "code",
   "execution_count": 8,
   "id": "e921a7d4",
   "metadata": {},
   "outputs": [
    {
     "data": {
      "text/plain": [
       "[20, 'a', 'b', 3.14]"
      ]
     },
     "execution_count": 8,
     "metadata": {},
     "output_type": "execute_result"
    }
   ],
   "source": [
    "myList"
   ]
  },
  {
   "cell_type": "code",
   "execution_count": 9,
   "id": "8b1a7376",
   "metadata": {},
   "outputs": [],
   "source": [
    "mytuples = tuple(myList)  # Listeyi tekrar tuple'a dönüştürme"
   ]
  },
  {
   "cell_type": "code",
   "execution_count": 10,
   "id": "af4064f8",
   "metadata": {},
   "outputs": [
    {
     "data": {
      "text/plain": [
       "(20, 'a', 'b', 3.14)"
      ]
     },
     "execution_count": 10,
     "metadata": {},
     "output_type": "execute_result"
    }
   ],
   "source": [
    "mytuples"
   ]
  },
  {
   "cell_type": "code",
   "execution_count": 11,
   "id": "c16b0bf7",
   "metadata": {},
   "outputs": [
    {
     "data": {
      "text/plain": [
       "tuple"
      ]
     },
     "execution_count": 11,
     "metadata": {},
     "output_type": "execute_result"
    }
   ],
   "source": [
    "type(mytuples)  # Tuple olarak geri döner"
   ]
  },
  {
   "cell_type": "code",
   "execution_count": null,
   "id": "7b17f9f1",
   "metadata": {},
   "outputs": [],
   "source": []
  }
 ],
 "metadata": {
  "kernelspec": {
   "display_name": ".venv",
   "language": "python",
   "name": "python3"
  },
  "language_info": {
   "codemirror_mode": {
    "name": "ipython",
    "version": 3
   },
   "file_extension": ".py",
   "mimetype": "text/x-python",
   "name": "python",
   "nbconvert_exporter": "python",
   "pygments_lexer": "ipython3",
   "version": "3.12.3"
  }
 },
 "nbformat": 4,
 "nbformat_minor": 5
}
