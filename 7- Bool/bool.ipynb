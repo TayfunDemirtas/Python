{
 "cells": [
  {
   "cell_type": "code",
   "execution_count": 1,
   "id": "74ec261a",
   "metadata": {},
   "outputs": [],
   "source": [
    "#Boolean iki değer alabilir: True veya False\n",
    "#Boolean değerler, koşullu ifadelerde ve döngülerde kullanılır.\n",
    "#Örneğin, bir sayının pozitif olup olmadığını kontrol etmek için kullanılabilir.\n",
    "#Boolean değerler, karşılaştırma operatörleriyle elde edilebilir."
   ]
  },
  {
   "cell_type": "code",
   "execution_count": 2,
   "id": "09e067df",
   "metadata": {},
   "outputs": [
    {
     "data": {
      "text/plain": [
       "True"
      ]
     },
     "execution_count": 2,
     "metadata": {},
     "output_type": "execute_result"
    }
   ],
   "source": [
    "5 < 10  # True"
   ]
  },
  {
   "cell_type": "code",
   "execution_count": 3,
   "id": "a4940c19",
   "metadata": {},
   "outputs": [
    {
     "data": {
      "text/plain": [
       "True"
      ]
     },
     "execution_count": 3,
     "metadata": {},
     "output_type": "execute_result"
    }
   ],
   "source": [
    "3>= 2  # True"
   ]
  },
  {
   "cell_type": "code",
   "execution_count": 4,
   "id": "97b1fd3c",
   "metadata": {},
   "outputs": [],
   "source": [
    "age = input(\"Yaşınızı girin: \")"
   ]
  },
  {
   "cell_type": "code",
   "execution_count": 5,
   "id": "01fd32e3",
   "metadata": {},
   "outputs": [
    {
     "data": {
      "text/plain": [
       "True"
      ]
     },
     "execution_count": 5,
     "metadata": {},
     "output_type": "execute_result"
    }
   ],
   "source": [
    "int(age) >= 18  # True veya False"
   ]
  },
  {
   "cell_type": "code",
   "execution_count": 6,
   "id": "037437f2",
   "metadata": {},
   "outputs": [
    {
     "name": "stdout",
     "output_type": "stream",
     "text": [
      "Reşitsiniz.\n"
     ]
    }
   ],
   "source": [
    "#input() fonksiyonu kullanıcıdan veri alır ve bu veriyi string olarak döner.\n",
    "#int() fonksiyonu, string olarak alınan veriyi tamsayıya dönüştürür.\n",
    "#Karşılaştırma operatörleri, iki değeri karşılaştırarak\n",
    "#True veya False değerini döndürür.\n",
    "#Bu örnekte, kullanıcının girdiği yaşın 18 veya daha büyük olup olmadığını kontrol ediyoruz.\n",
    "#Eğer kullanıcı 18 veya daha büyük bir yaş girerse,\n",
    "#int(age) >= 18 ifadesi True döner, aksi takdirde False döner.\n",
    "#Bu tür boolean ifadeler, programlama dillerinde koşullu ifadelerde yaygın olarak kullanılır.\n",
    "#Örneğin, bir if bloğu içinde bu tür bir boolean ifade kullanarak\n",
    "#kullanıcının yaşına göre farklı işlemler yapabiliriz.\n",
    "#Örneğin:\n",
    "if int(age) >= 18:\n",
    "    print(\"Reşitsiniz.\")\n",
    "else:\n",
    "    print(\"Reşit değilsiniz.\")\n",
    "#Bu kod, kullanıcının yaşına göre \"Reşitsiniz.\" veya \"Reşit değilsiniz.\" mesajını ekrana yazdırır.\n",
    "#Eğer kullanıcı 18 veya daha büyük bir yaş girerse, \"Reşitsiniz.\" mesajı yazdırılır."
   ]
  },
  {
   "cell_type": "code",
   "execution_count": null,
   "id": "0457a701",
   "metadata": {},
   "outputs": [],
   "source": []
  }
 ],
 "metadata": {
  "kernelspec": {
   "display_name": ".venv",
   "language": "python",
   "name": "python3"
  },
  "language_info": {
   "codemirror_mode": {
    "name": "ipython",
    "version": 3
   },
   "file_extension": ".py",
   "mimetype": "text/x-python",
   "name": "python",
   "nbconvert_exporter": "python",
   "pygments_lexer": "ipython3",
   "version": "3.12.3"
  }
 },
 "nbformat": 4,
 "nbformat_minor": 5
}
