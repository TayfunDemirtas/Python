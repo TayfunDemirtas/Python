{
 "cells": [
  {
   "cell_type": "code",
   "execution_count": 1,
   "id": "71c7cb5c",
   "metadata": {},
   "outputs": [],
   "source": [
    "degisken = [10,20,30,40,50]"
   ]
  },
  {
   "cell_type": "code",
   "execution_count": 2,
   "id": "64945021",
   "metadata": {},
   "outputs": [
    {
     "data": {
      "text/plain": [
       "list"
      ]
     },
     "execution_count": 2,
     "metadata": {},
     "output_type": "execute_result"
    }
   ],
   "source": [
    "type(degisken)"
   ]
  },
  {
   "cell_type": "code",
   "execution_count": 3,
   "id": "e2c3747f",
   "metadata": {},
   "outputs": [
    {
     "data": {
      "text/plain": [
       "'[10, 20, 30, 40, 50]'"
      ]
     },
     "execution_count": 3,
     "metadata": {},
     "output_type": "execute_result"
    }
   ],
   "source": [
    "str(degisken)"
   ]
  },
  {
   "cell_type": "code",
   "execution_count": 4,
   "id": "4f2865d2",
   "metadata": {},
   "outputs": [
    {
     "data": {
      "text/plain": [
       "list"
      ]
     },
     "execution_count": 4,
     "metadata": {},
     "output_type": "execute_result"
    }
   ],
   "source": [
    "type(degisken)"
   ]
  },
  {
   "cell_type": "code",
   "execution_count": 5,
   "id": "668439fa",
   "metadata": {},
   "outputs": [],
   "source": [
    "isim1= \"Tayfun\"\n",
    "isim2= \"mehmet\"\n",
    "isim3= \"Ali\"\n"
   ]
  },
  {
   "cell_type": "code",
   "execution_count": 6,
   "id": "5c094716",
   "metadata": {},
   "outputs": [],
   "source": [
    "degisken.append(isim1)\n",
    "degisken.append(isim2)\n",
    "degisken.append(isim3)"
   ]
  },
  {
   "cell_type": "code",
   "execution_count": 7,
   "id": "52f1918e",
   "metadata": {},
   "outputs": [
    {
     "data": {
      "text/plain": [
       "[10, 20, 30, 40, 50, 'Tayfun', 'mehmet', 'Ali']"
      ]
     },
     "execution_count": 7,
     "metadata": {},
     "output_type": "execute_result"
    }
   ],
   "source": [
    "degisken"
   ]
  },
  {
   "cell_type": "code",
   "execution_count": 9,
   "id": "9afffd49",
   "metadata": {},
   "outputs": [],
   "source": [
    "degisken.remove(10)"
   ]
  },
  {
   "cell_type": "code",
   "execution_count": 10,
   "id": "2412a155",
   "metadata": {},
   "outputs": [],
   "source": [
    "degisken.remove(20)\n",
    "degisken.remove(30)\n",
    "degisken.remove(40)\n",
    "degisken.remove(50)"
   ]
  },
  {
   "cell_type": "code",
   "execution_count": 11,
   "id": "04a82c31",
   "metadata": {},
   "outputs": [
    {
     "data": {
      "text/plain": [
       "['Tayfun', 'mehmet', 'Ali']"
      ]
     },
     "execution_count": 11,
     "metadata": {},
     "output_type": "execute_result"
    }
   ],
   "source": [
    "degisken"
   ]
  },
  {
   "cell_type": "code",
   "execution_count": 12,
   "id": "378059c9",
   "metadata": {},
   "outputs": [
    {
     "data": {
      "text/plain": [
       "list"
      ]
     },
     "execution_count": 12,
     "metadata": {},
     "output_type": "execute_result"
    }
   ],
   "source": [
    "type(degisken)"
   ]
  },
  {
   "cell_type": "code",
   "execution_count": 13,
   "id": "b2bd2d0d",
   "metadata": {},
   "outputs": [],
   "source": [
    "degisken = [\"10\",\"20\",\"30\",\"40\",\"50\"]"
   ]
  },
  {
   "cell_type": "code",
   "execution_count": 14,
   "id": "c9f417f4",
   "metadata": {},
   "outputs": [
    {
     "data": {
      "text/plain": [
       "list"
      ]
     },
     "execution_count": 14,
     "metadata": {},
     "output_type": "execute_result"
    }
   ],
   "source": [
    "type(degisken)"
   ]
  },
  {
   "cell_type": "code",
   "execution_count": 15,
   "id": "473ca8d5",
   "metadata": {},
   "outputs": [
    {
     "data": {
      "text/plain": [
       "['10', '20', '30', '40', '50']"
      ]
     },
     "execution_count": 15,
     "metadata": {},
     "output_type": "execute_result"
    }
   ],
   "source": [
    "degisken"
   ]
  },
  {
   "cell_type": "code",
   "execution_count": 24,
   "id": "e96cbb45",
   "metadata": {},
   "outputs": [],
   "source": [
    "degisken=(int(degisken[0]))"
   ]
  },
  {
   "cell_type": "code",
   "execution_count": 29,
   "id": "ecf8c39b",
   "metadata": {},
   "outputs": [
    {
     "name": "stdout",
     "output_type": "stream",
     "text": [
      "10\n"
     ]
    }
   ],
   "source": [
    "print(degisken)"
   ]
  },
  {
   "cell_type": "code",
   "execution_count": 30,
   "id": "62d03f9e",
   "metadata": {},
   "outputs": [
    {
     "data": {
      "text/plain": [
       "10"
      ]
     },
     "execution_count": 30,
     "metadata": {},
     "output_type": "execute_result"
    }
   ],
   "source": [
    "degisken"
   ]
  },
  {
   "cell_type": "code",
   "execution_count": 31,
   "id": "0976a31c",
   "metadata": {},
   "outputs": [],
   "source": [
    "degisken = [isim1, isim2, isim3]"
   ]
  },
  {
   "cell_type": "code",
   "execution_count": 32,
   "id": "bbf80a7a",
   "metadata": {},
   "outputs": [],
   "source": [
    "degisken.clear()"
   ]
  },
  {
   "cell_type": "code",
   "execution_count": 33,
   "id": "8c3db720",
   "metadata": {},
   "outputs": [
    {
     "data": {
      "text/plain": [
       "[]"
      ]
     },
     "execution_count": 33,
     "metadata": {},
     "output_type": "execute_result"
    }
   ],
   "source": [
    "degisken"
   ]
  },
  {
   "cell_type": "code",
   "execution_count": 40,
   "id": "5b1522dd",
   "metadata": {},
   "outputs": [],
   "source": [
    "degisken = [10, 20, 30, 40, 50]"
   ]
  },
  {
   "cell_type": "code",
   "execution_count": 35,
   "id": "2bc88222",
   "metadata": {},
   "outputs": [
    {
     "data": {
      "text/plain": [
       "20"
      ]
     },
     "execution_count": 35,
     "metadata": {},
     "output_type": "execute_result"
    }
   ],
   "source": [
    "degisken[1]"
   ]
  },
  {
   "cell_type": "code",
   "execution_count": 36,
   "id": "68f652fe",
   "metadata": {},
   "outputs": [
    {
     "data": {
      "text/plain": [
       "int"
      ]
     },
     "execution_count": 36,
     "metadata": {},
     "output_type": "execute_result"
    }
   ],
   "source": [
    "type(degisken[0])"
   ]
  },
  {
   "cell_type": "code",
   "execution_count": 37,
   "id": "f3835b56",
   "metadata": {},
   "outputs": [
    {
     "data": {
      "text/plain": [
       "list"
      ]
     },
     "execution_count": 37,
     "metadata": {},
     "output_type": "execute_result"
    }
   ],
   "source": [
    "type(degisken)\n",
    "# --- a/vscode-notebook-cell:/c%3A/Users/Tayfun/Desktop"
   ]
  },
  {
   "cell_type": "code",
   "execution_count": null,
   "id": "2c1ec679",
   "metadata": {},
   "outputs": [],
   "source": [
    "degisken = (str(degisken[0])) #tip donusumu yapilirken parantez icinde yapilir. # "
   ]
  },
  {
   "cell_type": "code",
   "execution_count": null,
   "id": "7bb5330b",
   "metadata": {},
   "outputs": [
    {
     "data": {
      "text/plain": [
       "'10'"
      ]
     },
     "execution_count": 39,
     "metadata": {},
     "output_type": "execute_result"
    }
   ],
   "source": [
    "#listeler de tip donusumu yapilirken parantez icinde yapilir. Tip dönüşümü yapılan indexe atanir. "
   ]
  },
  {
   "cell_type": "code",
   "execution_count": null,
   "id": "8de9837d",
   "metadata": {},
   "outputs": [],
   "source": [
    "Liste1= [10, 20, 30] \n",
    "Liste2= [40, 50, 60]"
   ]
  },
  {
   "cell_type": "code",
   "execution_count": null,
   "id": "f36e3192",
   "metadata": {},
   "outputs": [
    {
     "data": {
      "text/plain": [
       "[10, 20, 30, 40, 50, 60]"
      ]
     },
     "execution_count": 3,
     "metadata": {},
     "output_type": "execute_result"
    }
   ],
   "source": [
    "Liste1 + Liste2 # iki listeyi birlestirir."
   ]
  },
  {
   "cell_type": "code",
   "execution_count": null,
   "id": "2b76080a",
   "metadata": {},
   "outputs": [
    {
     "data": {
      "text/plain": [
       "[10, 20, 30, 10, 20, 30]"
      ]
     },
     "execution_count": 4,
     "metadata": {},
     "output_type": "execute_result"
    }
   ],
   "source": [
    "Liste1 * 2 # listeyi iki katina cikarir. Yani listeyi iki kere yazar."
   ]
  },
  {
   "cell_type": "code",
   "execution_count": 5,
   "id": "786c5e29",
   "metadata": {},
   "outputs": [],
   "source": [
    "mixed_list = [10, \"Tayfun\", 20.5, True]"
   ]
  },
  {
   "cell_type": "code",
   "execution_count": 6,
   "id": "0bdd9276",
   "metadata": {},
   "outputs": [
    {
     "data": {
      "text/plain": [
       "bool"
      ]
     },
     "execution_count": 6,
     "metadata": {},
     "output_type": "execute_result"
    }
   ],
   "source": [
    "type(mixed_list[0]) # 10 sayi tipi\n",
    "type(mixed_list[1]) # \"Tayfun\" string tipi\n",
    "type(mixed_list[2]) # 20.5 float tipi\n",
    "type(mixed_list[3]) # True boolean tipi"
   ]
  },
  {
   "cell_type": "code",
   "execution_count": 7,
   "id": "507d93fd",
   "metadata": {},
   "outputs": [
    {
     "data": {
      "text/plain": [
       "int"
      ]
     },
     "execution_count": 7,
     "metadata": {},
     "output_type": "execute_result"
    }
   ],
   "source": [
    "type(mixed_list[0]) # 10 sayi tipi"
   ]
  },
  {
   "cell_type": "markdown",
   "id": "22e93dc3",
   "metadata": {},
   "source": [
    "nestesList"
   ]
  },
  {
   "cell_type": "code",
   "execution_count": 8,
   "id": "ff65d036",
   "metadata": {},
   "outputs": [],
   "source": [
    "myNestedList = [10,20,3.14,\"Tayfun\", [1,2,3]]"
   ]
  },
  {
   "cell_type": "code",
   "execution_count": 9,
   "id": "dcfc50fc",
   "metadata": {},
   "outputs": [
    {
     "data": {
      "text/plain": [
       "10"
      ]
     },
     "execution_count": 9,
     "metadata": {},
     "output_type": "execute_result"
    }
   ],
   "source": [
    "myNestedList[0]"
   ]
  },
  {
   "cell_type": "code",
   "execution_count": 10,
   "id": "fe99ecd2",
   "metadata": {},
   "outputs": [
    {
     "data": {
      "text/plain": [
       "20"
      ]
     },
     "execution_count": 10,
     "metadata": {},
     "output_type": "execute_result"
    }
   ],
   "source": [
    "myNestedList[1]"
   ]
  },
  {
   "cell_type": "code",
   "execution_count": 11,
   "id": "a7342c89",
   "metadata": {},
   "outputs": [
    {
     "data": {
      "text/plain": [
       "3.14"
      ]
     },
     "execution_count": 11,
     "metadata": {},
     "output_type": "execute_result"
    }
   ],
   "source": [
    "myNestedList[2]"
   ]
  },
  {
   "cell_type": "code",
   "execution_count": 12,
   "id": "87e25396",
   "metadata": {},
   "outputs": [
    {
     "data": {
      "text/plain": [
       "'Tayfun'"
      ]
     },
     "execution_count": 12,
     "metadata": {},
     "output_type": "execute_result"
    }
   ],
   "source": [
    "myNestedList[3]"
   ]
  },
  {
   "cell_type": "code",
   "execution_count": 13,
   "id": "5a12cdd5",
   "metadata": {},
   "outputs": [
    {
     "data": {
      "text/plain": [
       "[1, 2, 3]"
      ]
     },
     "execution_count": 13,
     "metadata": {},
     "output_type": "execute_result"
    }
   ],
   "source": [
    "myNestedList[4]"
   ]
  },
  {
   "cell_type": "code",
   "execution_count": 14,
   "id": "9441b2cd",
   "metadata": {},
   "outputs": [],
   "source": [
    "smallLİst = myNestedList[4]"
   ]
  },
  {
   "cell_type": "code",
   "execution_count": 16,
   "id": "b143fad7",
   "metadata": {},
   "outputs": [
    {
     "data": {
      "text/plain": [
       "[1, 2, 3]"
      ]
     },
     "execution_count": 16,
     "metadata": {},
     "output_type": "execute_result"
    }
   ],
   "source": [
    "smallLİst # Burada myNestedList'in 4. indexindeki listeyi aliriz. Bu listenin içindekilere ulaşmak için tekrar indeksleme yapabiliriz."
   ]
  },
  {
   "cell_type": "code",
   "execution_count": null,
   "id": "a39c00ad",
   "metadata": {},
   "outputs": [
    {
     "data": {
      "text/plain": [
       "2"
      ]
     },
     "execution_count": 18,
     "metadata": {},
     "output_type": "execute_result"
    }
   ],
   "source": [
    "myNestedList[4][1] # Bu şekilde iç içe listelerden elemanlara erişebiliriz. myNestedList[4] ifadesi ile 4. indexteki listeye erişiyoruz, ardından [1] ile bu listenin 1. indexindeki elemana erişiyoruz."
   ]
  },
  {
   "cell_type": "code",
   "execution_count": null,
   "id": "77d2ea33",
   "metadata": {},
   "outputs": [],
   "source": []
  }
 ],
 "metadata": {
  "kernelspec": {
   "display_name": "base",
   "language": "python",
   "name": "python3"
  },
  "language_info": {
   "codemirror_mode": {
    "name": "ipython",
    "version": 3
   },
   "file_extension": ".py",
   "mimetype": "text/x-python",
   "name": "python",
   "nbconvert_exporter": "python",
   "pygments_lexer": "ipython3",
   "version": "3.13.5"
  }
 },
 "nbformat": 4,
 "nbformat_minor": 5
}
