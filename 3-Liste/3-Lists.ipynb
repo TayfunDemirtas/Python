{
 "cells": [
  {
   "cell_type": "code",
   "execution_count": 2,
   "id": "002b1220",
   "metadata": {},
   "outputs": [],
   "source": [
    "#List"
   ]
  },
  {
   "cell_type": "code",
   "execution_count": 3,
   "id": "67959fdb",
   "metadata": {},
   "outputs": [],
   "source": [
    "myString = \"Hello World\""
   ]
  },
  {
   "cell_type": "code",
   "execution_count": 4,
   "id": "504e96e7",
   "metadata": {},
   "outputs": [
    {
     "data": {
      "text/plain": [
       "'H'"
      ]
     },
     "execution_count": 4,
     "metadata": {},
     "output_type": "execute_result"
    }
   ],
   "source": [
    "myString[0]"
   ]
  },
  {
   "cell_type": "code",
   "execution_count": 5,
   "id": "b8f0ab27",
   "metadata": {},
   "outputs": [],
   "source": [
    "#immutable  - immutability\n"
   ]
  },
  {
   "cell_type": "markdown",
   "id": "cc90c1ad",
   "metadata": {},
   "source": [
    "LİST"
   ]
  },
  {
   "cell_type": "code",
   "execution_count": 6,
   "id": "f33768bb",
   "metadata": {},
   "outputs": [],
   "source": [
    "myList=[10,20,30]"
   ]
  },
  {
   "cell_type": "code",
   "execution_count": 7,
   "id": "31528fc2",
   "metadata": {},
   "outputs": [
    {
     "data": {
      "text/plain": [
       "list"
      ]
     },
     "execution_count": 7,
     "metadata": {},
     "output_type": "execute_result"
    }
   ],
   "source": [
    "type(myList)"
   ]
  },
  {
   "cell_type": "code",
   "execution_count": 8,
   "id": "5ea84c0b",
   "metadata": {},
   "outputs": [],
   "source": [
    "x = 10\n",
    "y = 20\n",
    "z = 30"
   ]
  },
  {
   "cell_type": "code",
   "execution_count": null,
   "id": "a7ab97e0",
   "metadata": {},
   "outputs": [],
   "source": [
    "myLİst = [x, y, z] # Listeler içine değişken alabilir. Değişkenler değişirse liste de değişir."
   ]
  },
  {
   "cell_type": "code",
   "execution_count": 10,
   "id": "72cf7212",
   "metadata": {},
   "outputs": [
    {
     "data": {
      "text/plain": [
       "[10, 20, 30]"
      ]
     },
     "execution_count": 10,
     "metadata": {},
     "output_type": "execute_result"
    }
   ],
   "source": [
    "myList"
   ]
  },
  {
   "cell_type": "code",
   "execution_count": 2,
   "id": "b84e4800",
   "metadata": {},
   "outputs": [],
   "source": [
    " #myList[10,20,30,40,50] # index mantığıyla çalışır. \n",
    "myList=[10,20,30,40,50] # index mantığıyla çalışır."
   ]
  },
  {
   "cell_type": "code",
   "execution_count": 14,
   "id": "96f24077",
   "metadata": {},
   "outputs": [
    {
     "data": {
      "text/plain": [
       "10"
      ]
     },
     "execution_count": 14,
     "metadata": {},
     "output_type": "execute_result"
    }
   ],
   "source": [
    "myList[0]"
   ]
  },
  {
   "cell_type": "code",
   "execution_count": 15,
   "id": "e38ac68e",
   "metadata": {},
   "outputs": [
    {
     "data": {
      "text/plain": [
       "list"
      ]
     },
     "execution_count": 15,
     "metadata": {},
     "output_type": "execute_result"
    }
   ],
   "source": [
    "type(myList)"
   ]
  },
  {
   "cell_type": "code",
   "execution_count": 16,
   "id": "9afa076d",
   "metadata": {},
   "outputs": [
    {
     "data": {
      "text/plain": [
       "int"
      ]
     },
     "execution_count": 16,
     "metadata": {},
     "output_type": "execute_result"
    }
   ],
   "source": [
    "type(myList[2])"
   ]
  },
  {
   "cell_type": "code",
   "execution_count": 18,
   "id": "63d0f716",
   "metadata": {},
   "outputs": [],
   "source": [
    "#Lİsteler de mutable'dır. Yani değiştirilebilir.\n",
    "myList[0]=100"
   ]
  },
  {
   "cell_type": "code",
   "execution_count": 22,
   "id": "7e7737e8",
   "metadata": {},
   "outputs": [
    {
     "data": {
      "text/plain": [
       "[10, 20, 30, 40, 50]"
      ]
     },
     "execution_count": 22,
     "metadata": {},
     "output_type": "execute_result"
    }
   ],
   "source": [
    "myList"
   ]
  },
  {
   "cell_type": "code",
   "execution_count": 23,
   "id": "4b06f9df",
   "metadata": {},
   "outputs": [
    {
     "data": {
      "text/plain": [
       "50"
      ]
     },
     "execution_count": 23,
     "metadata": {},
     "output_type": "execute_result"
    }
   ],
   "source": [
    "myList[-1] # Son elemanı verir."
   ]
  },
  {
   "cell_type": "code",
   "execution_count": 3,
   "id": "598f3e03",
   "metadata": {},
   "outputs": [],
   "source": [
    "myList.append(60) # Listeye eleman ekler."
   ]
  },
  {
   "cell_type": "code",
   "execution_count": 4,
   "id": "23611592",
   "metadata": {},
   "outputs": [
    {
     "data": {
      "text/plain": [
       "[10, 20, 30, 40, 50, 60]"
      ]
     },
     "execution_count": 4,
     "metadata": {},
     "output_type": "execute_result"
    }
   ],
   "source": [
    "myList"
   ]
  },
  {
   "cell_type": "code",
   "execution_count": 5,
   "id": "22490424",
   "metadata": {},
   "outputs": [
    {
     "data": {
      "text/plain": [
       "1"
      ]
     },
     "execution_count": 5,
     "metadata": {},
     "output_type": "execute_result"
    }
   ],
   "source": [
    "myList.count(20) # 20 sayısının kaç kere geçtiğini verir."
   ]
  },
  {
   "cell_type": "code",
   "execution_count": 6,
   "id": "bc423c78",
   "metadata": {},
   "outputs": [
    {
     "data": {
      "text/plain": [
       "1"
      ]
     },
     "execution_count": 6,
     "metadata": {},
     "output_type": "execute_result"
    }
   ],
   "source": [
    "myList.index(20) # 20 sayısının indexini verir."
   ]
  },
  {
   "cell_type": "code",
   "execution_count": 7,
   "id": "ec20cc1c",
   "metadata": {},
   "outputs": [
    {
     "data": {
      "text/plain": [
       "[10, 20, 30, 40, 50, 60]"
      ]
     },
     "execution_count": 7,
     "metadata": {},
     "output_type": "execute_result"
    }
   ],
   "source": [
    "myList"
   ]
  },
  {
   "cell_type": "code",
   "execution_count": 8,
   "id": "2b8546ee",
   "metadata": {},
   "outputs": [
    {
     "data": {
      "text/plain": [
       "60"
      ]
     },
     "execution_count": 8,
     "metadata": {},
     "output_type": "execute_result"
    }
   ],
   "source": [
    "myList.pop() # Son elemanı siler ve o elemanı verir."
   ]
  },
  {
   "cell_type": "code",
   "execution_count": 9,
   "id": "ff90605b",
   "metadata": {},
   "outputs": [],
   "source": [
    " x=input(\"Bir sayı giriniz: \")"
   ]
  },
  {
   "cell_type": "code",
   "execution_count": 10,
   "id": "d24da420",
   "metadata": {},
   "outputs": [
    {
     "data": {
      "text/plain": [
       "'10'"
      ]
     },
     "execution_count": 10,
     "metadata": {},
     "output_type": "execute_result"
    }
   ],
   "source": [
    "x"
   ]
  },
  {
   "cell_type": "code",
   "execution_count": 11,
   "id": "a0bb7f79",
   "metadata": {},
   "outputs": [],
   "source": [
    "y = input(\"Bir sayı giriniz: \")"
   ]
  },
  {
   "cell_type": "code",
   "execution_count": 12,
   "id": "4561843a",
   "metadata": {},
   "outputs": [],
   "source": [
    "z = input(\"Bir sayı giriniz: \")"
   ]
  },
  {
   "cell_type": "code",
   "execution_count": 15,
   "id": "1ed2d90d",
   "metadata": {},
   "outputs": [
    {
     "data": {
      "text/plain": [
       "'10'"
      ]
     },
     "execution_count": 15,
     "metadata": {},
     "output_type": "execute_result"
    }
   ],
   "source": [
    "x"
   ]
  },
  {
   "cell_type": "code",
   "execution_count": 16,
   "id": "95384a80",
   "metadata": {},
   "outputs": [
    {
     "data": {
      "text/plain": [
       "'20'"
      ]
     },
     "execution_count": 16,
     "metadata": {},
     "output_type": "execute_result"
    }
   ],
   "source": [
    "y"
   ]
  },
  {
   "cell_type": "code",
   "execution_count": 17,
   "id": "0f8dafe6",
   "metadata": {},
   "outputs": [
    {
     "data": {
      "text/plain": [
       "'30'"
      ]
     },
     "execution_count": 17,
     "metadata": {},
     "output_type": "execute_result"
    }
   ],
   "source": [
    "z"
   ]
  },
  {
   "cell_type": "code",
   "execution_count": 21,
   "id": "11c2c940",
   "metadata": {},
   "outputs": [],
   "source": [
    "#inputList = [x, y, z] # input ile alınan değerler listeye eklenir.\n",
    "inputList.append(x)\n",
    "inputList.append(y)\n",
    "inputList.append(z)"
   ]
  },
  {
   "cell_type": "code",
   "execution_count": 22,
   "id": "3cc10a42",
   "metadata": {},
   "outputs": [
    {
     "data": {
      "text/plain": [
       "['10', '20', '30', '10', '10', '20', '30']"
      ]
     },
     "execution_count": 22,
     "metadata": {},
     "output_type": "execute_result"
    }
   ],
   "source": [
    "inputList"
   ]
  },
  {
   "cell_type": "code",
   "execution_count": 23,
   "id": "4bbc2530",
   "metadata": {},
   "outputs": [],
   "source": [
    "inputList.clear() # Listeyi temizler."
   ]
  },
  {
   "cell_type": "code",
   "execution_count": 24,
   "id": "40eaf825",
   "metadata": {},
   "outputs": [
    {
     "data": {
      "text/plain": [
       "[]"
      ]
     },
     "execution_count": 24,
     "metadata": {},
     "output_type": "execute_result"
    }
   ],
   "source": [
    "inputList"
   ]
  },
  {
   "cell_type": "code",
   "execution_count": 25,
   "id": "7113da93",
   "metadata": {},
   "outputs": [],
   "source": [
    "inputList.append(x)\n",
    "inputList.append(y)\n",
    "inputList.append(z)\n"
   ]
  },
  {
   "cell_type": "code",
   "execution_count": 26,
   "id": "b7e54150",
   "metadata": {},
   "outputs": [
    {
     "data": {
      "text/plain": [
       "['10', '20', '30']"
      ]
     },
     "execution_count": 26,
     "metadata": {},
     "output_type": "execute_result"
    }
   ],
   "source": [
    "inputList"
   ]
  },
  {
   "cell_type": "code",
   "execution_count": null,
   "id": "eac40d64",
   "metadata": {},
   "outputs": [],
   "source": [
    " "
   ]
  },
  {
   "cell_type": "markdown",
   "id": "96b37674",
   "metadata": {},
   "source": [
    "VERİ TİPİ ÇEVİRME"
   ]
  },
  {
   "cell_type": "code",
   "execution_count": 27,
   "id": "0b7eae31",
   "metadata": {},
   "outputs": [],
   "source": [
    "myNumber = 10"
   ]
  },
  {
   "cell_type": "code",
   "execution_count": 28,
   "id": "958dba59",
   "metadata": {},
   "outputs": [
    {
     "data": {
      "text/plain": [
       "10"
      ]
     },
     "execution_count": 28,
     "metadata": {},
     "output_type": "execute_result"
    }
   ],
   "source": [
    "myNumber"
   ]
  },
  {
   "cell_type": "code",
   "execution_count": 29,
   "id": "1b66e5fa",
   "metadata": {},
   "outputs": [
    {
     "data": {
      "text/plain": [
       "int"
      ]
     },
     "execution_count": 29,
     "metadata": {},
     "output_type": "execute_result"
    }
   ],
   "source": [
    "type(myNumber)"
   ]
  },
  {
   "cell_type": "code",
   "execution_count": 30,
   "id": "9db4b435",
   "metadata": {},
   "outputs": [
    {
     "data": {
      "text/plain": [
       "'10'"
      ]
     },
     "execution_count": 30,
     "metadata": {},
     "output_type": "execute_result"
    }
   ],
   "source": [
    "str(myNumber) # int tipini str tipine çevirir."
   ]
  },
  {
   "cell_type": "code",
   "execution_count": 31,
   "id": "4ad8a051",
   "metadata": {},
   "outputs": [
    {
     "data": {
      "text/plain": [
       "int"
      ]
     },
     "execution_count": 31,
     "metadata": {},
     "output_type": "execute_result"
    }
   ],
   "source": [
    "type(myNumber)"
   ]
  },
  {
   "cell_type": "code",
   "execution_count": 32,
   "id": "ab7ad9ae",
   "metadata": {},
   "outputs": [],
   "source": [
    "myNumber = str(myNumber) # int tipini str tipine çevirir."
   ]
  },
  {
   "cell_type": "code",
   "execution_count": 33,
   "id": "46eaad5d",
   "metadata": {},
   "outputs": [
    {
     "data": {
      "text/plain": [
       "'10'"
      ]
     },
     "execution_count": 33,
     "metadata": {},
     "output_type": "execute_result"
    }
   ],
   "source": [
    "myNumber"
   ]
  },
  {
   "cell_type": "code",
   "execution_count": 34,
   "id": "d82553e0",
   "metadata": {},
   "outputs": [
    {
     "data": {
      "text/plain": [
       "str"
      ]
     },
     "execution_count": 34,
     "metadata": {},
     "output_type": "execute_result"
    }
   ],
   "source": [
    "type(myNumber)"
   ]
  },
  {
   "cell_type": "code",
   "execution_count": 35,
   "id": "2da564b7",
   "metadata": {},
   "outputs": [
    {
     "data": {
      "text/plain": [
       "['10', '20', '30']"
      ]
     },
     "execution_count": 35,
     "metadata": {},
     "output_type": "execute_result"
    }
   ],
   "source": [
    "inputList"
   ]
  },
  {
   "cell_type": "code",
   "execution_count": 36,
   "id": "7b4f2bbd",
   "metadata": {},
   "outputs": [
    {
     "data": {
      "text/plain": [
       "10"
      ]
     },
     "execution_count": 36,
     "metadata": {},
     "output_type": "execute_result"
    }
   ],
   "source": [
    "int(inputList[0]) # input ile alınan değerler str tipindedir. int() ile int tipine çevrilebilir."
   ]
  },
  {
   "cell_type": "code",
   "execution_count": 38,
   "id": "cd786606",
   "metadata": {},
   "outputs": [
    {
     "data": {
      "text/plain": [
       "40"
      ]
     },
     "execution_count": 38,
     "metadata": {},
     "output_type": "execute_result"
    }
   ],
   "source": [
    "int(inputList[1])*2 # Burada input ile alınan değerler str tipindedir. int() ile int tipine çevrilebilir ve 2 ile çarpılabilir."
   ]
  },
  {
   "cell_type": "code",
   "execution_count": 1,
   "id": "df2d93da",
   "metadata": {},
   "outputs": [],
   "source": [
    "nameList = [\"Ali\", \"Veli\", \"Ayşe\", \"Fatma\"]"
   ]
  },
  {
   "cell_type": "code",
   "execution_count": 2,
   "id": "71b1d552",
   "metadata": {},
   "outputs": [
    {
     "data": {
      "text/plain": [
       "list"
      ]
     },
     "execution_count": 2,
     "metadata": {},
     "output_type": "execute_result"
    }
   ],
   "source": [
    "type(nameList)"
   ]
  },
  {
   "cell_type": "code",
   "execution_count": 3,
   "id": "9b73b01b",
   "metadata": {},
   "outputs": [],
   "source": [
    "mixedList = [10, \"Ali\", 20.5, True] # Farklı tipte veriler içerebilir."
   ]
  },
  {
   "cell_type": "code",
   "execution_count": 4,
   "id": "770f4b5e",
   "metadata": {},
   "outputs": [
    {
     "data": {
      "text/plain": [
       "list"
      ]
     },
     "execution_count": 4,
     "metadata": {},
     "output_type": "execute_result"
    }
   ],
   "source": [
    "type(mixedList)"
   ]
  },
  {
   "cell_type": "code",
   "execution_count": null,
   "id": "9713db7f",
   "metadata": {},
   "outputs": [],
   "source": []
  }
 ],
 "metadata": {
  "kernelspec": {
   "display_name": "base",
   "language": "python",
   "name": "python3"
  },
  "language_info": {
   "codemirror_mode": {
    "name": "ipython",
    "version": 3
   },
   "file_extension": ".py",
   "mimetype": "text/x-python",
   "name": "python",
   "nbconvert_exporter": "python",
   "pygments_lexer": "ipython3",
   "version": "3.13.5"
  }
 },
 "nbformat": 4,
 "nbformat_minor": 5
}
