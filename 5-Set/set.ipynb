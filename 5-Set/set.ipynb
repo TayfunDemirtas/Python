{
 "cells": [
  {
   "cell_type": "code",
   "execution_count": 1,
   "id": "9bfee539",
   "metadata": {},
   "outputs": [],
   "source": [
    "#unique elements, unordereed\n",
    "#https://hackerrank.com/challenges/py-collections-deque/problem\n",
    "#unique elements= her elemandan sadece bir tane\n",
    "\n"
   ]
  },
  {
   "cell_type": "code",
   "execution_count": 4,
   "id": "9296f87c",
   "metadata": {},
   "outputs": [],
   "source": [
    "myList = [10,20,30,10,20,40,10,20,40] # Listeler de tekrar eden elemanlar olabilir\n",
    "#mySet = set(myList) # Setler de tekrar eden elemanlar olamaz"
   ]
  },
  {
   "cell_type": "code",
   "execution_count": 2,
   "id": "1c8ba424",
   "metadata": {},
   "outputs": [
    {
     "data": {
      "text/plain": [
       "9"
      ]
     },
     "execution_count": 2,
     "metadata": {},
     "output_type": "execute_result"
    }
   ],
   "source": [
    "len(myList)"
   ]
  },
  {
   "cell_type": "code",
   "execution_count": 3,
   "id": "6dba83d4",
   "metadata": {},
   "outputs": [
    {
     "data": {
      "text/plain": [
       "[10, 20, 30, 10, 20, 40, 10, 20, 40]"
      ]
     },
     "execution_count": 3,
     "metadata": {},
     "output_type": "execute_result"
    }
   ],
   "source": [
    "myList"
   ]
  },
  {
   "cell_type": "code",
   "execution_count": 5,
   "id": "c843b5f7",
   "metadata": {},
   "outputs": [],
   "source": [
    "# set(myList) # Setler de tekrar eden elemanlar olamaz\n",
    "mySet = set(myList) # Setler de tekrar eden elemanlar olamaz"
   ]
  },
  {
   "cell_type": "code",
   "execution_count": 6,
   "id": "f79fa3e0",
   "metadata": {},
   "outputs": [
    {
     "data": {
      "text/plain": [
       "{10, 20, 30, 40}"
      ]
     },
     "execution_count": 6,
     "metadata": {},
     "output_type": "execute_result"
    }
   ],
   "source": [
    "mySet"
   ]
  },
  {
   "cell_type": "code",
   "execution_count": 7,
   "id": "d6066189",
   "metadata": {},
   "outputs": [],
   "source": [
    "mySet = {10,20,30,10,20,40,10,20,40} # Setler de tekrar eden elemanlar olamaz"
   ]
  },
  {
   "cell_type": "code",
   "execution_count": 8,
   "id": "899dc80f",
   "metadata": {},
   "outputs": [
    {
     "data": {
      "text/plain": [
       "{10, 20, 30, 40}"
      ]
     },
     "execution_count": 8,
     "metadata": {},
     "output_type": "execute_result"
    }
   ],
   "source": [
    "mySet"
   ]
  },
  {
   "cell_type": "code",
   "execution_count": 9,
   "id": "0053ec6d",
   "metadata": {},
   "outputs": [],
   "source": [
    "mySet.add(50) # Setler de tekrar eden elemanlar olamaz"
   ]
  },
  {
   "cell_type": "code",
   "execution_count": 10,
   "id": "16733be3",
   "metadata": {},
   "outputs": [
    {
     "data": {
      "text/plain": [
       "{10, 20, 30, 40, 50}"
      ]
     },
     "execution_count": 10,
     "metadata": {},
     "output_type": "execute_result"
    }
   ],
   "source": [
    "mySet"
   ]
  },
  {
   "cell_type": "code",
   "execution_count": 11,
   "id": "97ad3728",
   "metadata": {},
   "outputs": [],
   "source": [
    "mySet2 ={30,40,50,60,70}"
   ]
  },
  {
   "cell_type": "code",
   "execution_count": 12,
   "id": "7ef36cc8",
   "metadata": {},
   "outputs": [
    {
     "data": {
      "text/plain": [
       "{10, 20, 30, 40, 50, 60, 70}"
      ]
     },
     "execution_count": 12,
     "metadata": {},
     "output_type": "execute_result"
    }
   ],
   "source": [
    "mySet.union(mySet2) # Setleri birleştirir"
   ]
  },
  {
   "cell_type": "code",
   "execution_count": 13,
   "id": "cf1b1289",
   "metadata": {},
   "outputs": [
    {
     "data": {
      "text/plain": [
       "{30, 40, 50}"
      ]
     },
     "execution_count": 13,
     "metadata": {},
     "output_type": "execute_result"
    }
   ],
   "source": [
    "mySet.intersection(mySet2) # Setlerin kesişimini alır"
   ]
  },
  {
   "cell_type": "code",
   "execution_count": 1,
   "id": "280d0e3a",
   "metadata": {},
   "outputs": [],
   "source": [
    "#set lerde boş küme oluşturmak için\n",
    "mySet3 = set() # Setler de tekrar eden elemanlar olamaz"
   ]
  }
 ],
 "metadata": {
  "kernelspec": {
   "display_name": "Python 3",
   "language": "python",
   "name": "python3"
  },
  "language_info": {
   "codemirror_mode": {
    "name": "ipython",
    "version": 3
   },
   "file_extension": ".py",
   "mimetype": "text/x-python",
   "name": "python",
   "nbconvert_exporter": "python",
   "pygments_lexer": "ipython3",
   "version": "3.13.5"
  }
 },
 "nbformat": 4,
 "nbformat_minor": 5
}
