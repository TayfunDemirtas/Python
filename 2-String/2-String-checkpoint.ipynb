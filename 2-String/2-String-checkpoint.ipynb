{
 "cells": [
  {
   "cell_type": "code",
   "execution_count": 8,
   "id": "a011f4fd",
   "metadata": {},
   "outputs": [],
   "source": [
    "name = \"tayfun demirtaş\""
   ]
  },
  {
   "cell_type": "code",
   "execution_count": 2,
   "id": "c3bc6e57",
   "metadata": {},
   "outputs": [
    {
     "data": {
      "text/plain": [
       "'Tayfundemirtaş'"
      ]
     },
     "execution_count": 2,
     "metadata": {},
     "output_type": "execute_result"
    }
   ],
   "source": [
    "name.capitalize() # ilk harfi büyük yapar"
   ]
  },
  {
   "cell_type": "code",
   "execution_count": 3,
   "id": "e4ea5baf",
   "metadata": {},
   "outputs": [
    {
     "data": {
      "text/plain": [
       "2"
      ]
     },
     "execution_count": 3,
     "metadata": {},
     "output_type": "execute_result"
    }
   ],
   "source": [
    "name.count(\"a\") # a harfinin sayısını verir"
   ]
  },
  {
   "cell_type": "code",
   "execution_count": 4,
   "id": "784301f6",
   "metadata": {},
   "outputs": [
    {
     "name": "stdout",
     "output_type": "stream",
     "text": [
      "Help on built-in function count:\n",
      "\n",
      "count(sub[, start[, end]], /) method of builtins.str instance\n",
      "    Return the number of non-overlapping occurrences of substring sub in string S[start:end].\n",
      "\n",
      "    Optional arguments start and end are interpreted as in slice notation.\n",
      "\n"
     ]
    }
   ],
   "source": [
    "help (name.count) # count fonksiyonunun nasıl kullanıldığını gösterir"
   ]
  },
  {
   "cell_type": "code",
   "execution_count": 5,
   "id": "aef1592a",
   "metadata": {},
   "outputs": [
    {
     "name": "stdout",
     "output_type": "stream",
     "text": [
      "Help on built-in function capitalize:\n",
      "\n",
      "capitalize() method of builtins.str instance\n",
      "    Return a capitalized version of the string.\n",
      "\n",
      "    More specifically, make the first character have upper case and the rest lower\n",
      "    case.\n",
      "\n"
     ]
    }
   ],
   "source": [
    "help (name.capitalize) # capitalize fonksiyonunun nasıl kullanıldığını gösterir"
   ]
  },
  {
   "cell_type": "code",
   "execution_count": 6,
   "id": "739333b2",
   "metadata": {},
   "outputs": [
    {
     "data": {
      "text/plain": [
       "1"
      ]
     },
     "execution_count": 6,
     "metadata": {},
     "output_type": "execute_result"
    }
   ],
   "source": [
    "name.find(\"a\") # a harfinin ilk geçtiği yeri verir"
   ]
  },
  {
   "cell_type": "code",
   "execution_count": 7,
   "id": "09993f2b",
   "metadata": {},
   "outputs": [
    {
     "data": {
      "text/plain": [
       "'TAYFUNDEMIRTAŞ'"
      ]
     },
     "execution_count": 7,
     "metadata": {},
     "output_type": "execute_result"
    }
   ],
   "source": [
    "name.upper()  # Bütün harfleri büyük yapar"
   ]
  },
  {
   "cell_type": "code",
   "execution_count": 9,
   "id": "b0f8e460",
   "metadata": {},
   "outputs": [
    {
     "data": {
      "text/plain": [
       "15"
      ]
     },
     "execution_count": 9,
     "metadata": {},
     "output_type": "execute_result"
    }
   ],
   "source": [
    "len(name) # name değişkeninin uzunluğunu verir"
   ]
  },
  {
   "cell_type": "code",
   "execution_count": 10,
   "id": "5acdb686",
   "metadata": {},
   "outputs": [
    {
     "name": "stdout",
     "output_type": "stream",
     "text": [
      "Tayfun \n",
      "Demirtaş\n"
     ]
    }
   ],
   "source": [
    "print(\"Tayfun \\nDemirtaş\") # \\n ile satır atlar"
   ]
  },
  {
   "cell_type": "code",
   "execution_count": 11,
   "id": "494829da",
   "metadata": {},
   "outputs": [
    {
     "name": "stdout",
     "output_type": "stream",
     "text": [
      "tayfun \tdemirtaş\n"
     ]
    }
   ],
   "source": [
    "print(\"tayfun \\tdemirtaş\") # \\t ile tab boşluğu ekler"
   ]
  },
  {
   "cell_type": "code",
   "execution_count": null,
   "id": "85dd2afe",
   "metadata": {},
   "outputs": [],
   "source": []
  },
  {
   "cell_type": "markdown",
   "id": "22c2ea71",
   "metadata": {},
   "source": [
    "İNDEX MANTIĞI"
   ]
  },
  {
   "cell_type": "code",
   "execution_count": 12,
   "id": "7017111a",
   "metadata": {},
   "outputs": [],
   "source": [
    "myStirng = \"hello python\""
   ]
  },
  {
   "cell_type": "code",
   "execution_count": 13,
   "id": "be2adae9",
   "metadata": {},
   "outputs": [
    {
     "data": {
      "text/plain": [
       "'o'"
      ]
     },
     "execution_count": 13,
     "metadata": {},
     "output_type": "execute_result"
    }
   ],
   "source": [
    "myStirng[4] # 4. indeksteki karakteri verir"
   ]
  },
  {
   "cell_type": "code",
   "execution_count": 14,
   "id": "0917e096",
   "metadata": {},
   "outputs": [],
   "source": [
    "myName =\"BaseException FileNotFoundError\""
   ]
  },
  {
   "cell_type": "code",
   "execution_count": 15,
   "id": "18f44601",
   "metadata": {},
   "outputs": [
    {
     "data": {
      "text/plain": [
       "'BaseException FileNotFoundError'"
      ]
     },
     "execution_count": 15,
     "metadata": {},
     "output_type": "execute_result"
    }
   ],
   "source": [
    "myName"
   ]
  },
  {
   "cell_type": "code",
   "execution_count": null,
   "id": "0bb95469",
   "metadata": {},
   "outputs": [
    {
     "data": {
      "text/plain": [
       "30"
      ]
     },
     "execution_count": 16,
     "metadata": {},
     "output_type": "execute_result"
    }
   ],
   "source": [
    "len(myName) - 1# myName değişkeninin son karakterine erişmek için Burada -1 kullanılır çünkü indeks 0'dan başlar. \n",
    "#-1 ile son karaktere erişilir. Önemli: Eğer -1 kullanmazsak, \n",
    "# #son karaktere erişmeye çalıştığımızda hata alırız çünkü indeks 0'dan başlar ve son karakterin indeksi toplam uzunluktan 1 eksiktir."
   ]
  },
  {
   "cell_type": "code",
   "execution_count": null,
   "id": "a51dce8f",
   "metadata": {},
   "outputs": [
    {
     "data": {
      "text/plain": [
       "'r'"
      ]
     },
     "execution_count": 17,
     "metadata": {},
     "output_type": "execute_result"
    }
   ],
   "source": [
    "myName[30] # 30. indeksteki karakteri verir."
   ]
  },
  {
   "cell_type": "code",
   "execution_count": 18,
   "id": "d8d5a7b2",
   "metadata": {},
   "outputs": [
    {
     "data": {
      "text/plain": [
       "'r'"
      ]
     },
     "execution_count": 18,
     "metadata": {},
     "output_type": "execute_result"
    }
   ],
   "source": [
    "#başka bir örnek\n",
    "myName[len(myName) - 1] # myName değişkeninin son karakterine erişmek için Burada -1 kullanılır çünkü indeks 0'dan başlar. Yukarıdaki örnekle aynı sonucu verir."
   ]
  },
  {
   "cell_type": "code",
   "execution_count": 19,
   "id": "288c4c5c",
   "metadata": {},
   "outputs": [
    {
     "data": {
      "text/plain": [
       "'r'"
      ]
     },
     "execution_count": 19,
     "metadata": {},
     "output_type": "execute_result"
    }
   ],
   "source": [
    "#başka bir örnek\n",
    "myName[-1] # myName değişkeninin son karakterine erişmek için Burada -1 kullanılır çünkü indeks 0'dan başlar. Yukarıdaki örnekle aynı sonucu verir."
   ]
  },
  {
   "cell_type": "code",
   "execution_count": null,
   "id": "23e06662",
   "metadata": {},
   "outputs": [],
   "source": []
  }
 ],
 "metadata": {
  "kernelspec": {
   "display_name": "base",
   "language": "python",
   "name": "python3"
  },
  "language_info": {
   "codemirror_mode": {
    "name": "ipython",
    "version": 3
   },
   "file_extension": ".py",
   "mimetype": "text/x-python",
   "name": "python",
   "nbconvert_exporter": "python",
   "pygments_lexer": "ipython3",
   "version": "3.13.5"
  }
 },
 "nbformat": 4,
 "nbformat_minor": 5
}
