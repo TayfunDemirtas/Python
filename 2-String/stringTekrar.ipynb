{
 "cells": [
  {
   "cell_type": "code",
   "execution_count": 2,
   "id": "1e60fc06",
   "metadata": {},
   "outputs": [],
   "source": [
    "name=\"deneme yazısıdır Ayraç ile bölünmüştür\""
   ]
  },
  {
   "cell_type": "code",
   "execution_count": 2,
   "id": "06ee33af",
   "metadata": {},
   "outputs": [
    {
     "data": {
      "text/plain": [
       "7"
      ]
     },
     "execution_count": 2,
     "metadata": {},
     "output_type": "execute_result"
    }
   ],
   "source": [
    "name.index(\"yazısı\")"
   ]
  },
  {
   "cell_type": "code",
   "execution_count": 3,
   "id": "415ad023",
   "metadata": {},
   "outputs": [],
   "source": [
    "name = name.split(\" \")"
   ]
  },
  {
   "cell_type": "code",
   "execution_count": 4,
   "id": "b494cc24",
   "metadata": {},
   "outputs": [
    {
     "data": {
      "text/plain": [
       "['deneme', 'yazısıdır', 'Ayraç', 'ile', 'bölünmüştür']"
      ]
     },
     "execution_count": 4,
     "metadata": {},
     "output_type": "execute_result"
    }
   ],
   "source": [
    "name"
   ]
  },
  {
   "cell_type": "code",
   "execution_count": 7,
   "id": "bf256e20",
   "metadata": {},
   "outputs": [
    {
     "data": {
      "text/plain": [
       "'r'"
      ]
     },
     "execution_count": 7,
     "metadata": {},
     "output_type": "execute_result"
    }
   ],
   "source": [
    "name[-1]"
   ]
  },
  {
   "cell_type": "code",
   "execution_count": 3,
   "id": "4a057083",
   "metadata": {},
   "outputs": [
    {
     "data": {
      "text/plain": [
       "' '"
      ]
     },
     "execution_count": 3,
     "metadata": {},
     "output_type": "execute_result"
    }
   ],
   "source": [
    "name[6]"
   ]
  },
  {
   "cell_type": "code",
   "execution_count": 4,
   "id": "0fed0edf",
   "metadata": {},
   "outputs": [
    {
     "data": {
      "text/plain": [
       "'deneme yazısıdır Ayraç ile bölün'"
      ]
     },
     "execution_count": 4,
     "metadata": {},
     "output_type": "execute_result"
    }
   ],
   "source": [
    "name[:-6]"
   ]
  },
  {
   "cell_type": "code",
   "execution_count": 10,
   "id": "4e93c8ca",
   "metadata": {},
   "outputs": [],
   "source": [
    "x=name[6]\n",
    "y=name[:-6]"
   ]
  },
  {
   "cell_type": "code",
   "execution_count": 11,
   "id": "bbd9d5b7",
   "metadata": {},
   "outputs": [],
   "source": [
    "myList=[x,y]"
   ]
  },
  {
   "cell_type": "code",
   "execution_count": 12,
   "id": "da221619",
   "metadata": {},
   "outputs": [
    {
     "name": "stdout",
     "output_type": "stream",
     "text": [
      "['m', 'deneme yazısıdır Ayraç ile bölün']\n"
     ]
    }
   ],
   "source": [
    "print(myListP)"
   ]
  },
  {
   "cell_type": "code",
   "execution_count": 13,
   "id": "168d1270",
   "metadata": {},
   "outputs": [],
   "source": [
    "myList2=[name[0],name[1],name[2],name[3],name[4],name[5]]"
   ]
  },
  {
   "cell_type": "code",
   "execution_count": 14,
   "id": "35c24cbe",
   "metadata": {},
   "outputs": [
    {
     "name": "stdout",
     "output_type": "stream",
     "text": [
      "['d', 'e', 'n', 'e', 'm', 'e']\n"
     ]
    }
   ],
   "source": [
    "print(myList2)"
   ]
  },
  {
   "cell_type": "code",
   "execution_count": 19,
   "id": "665b5f2a",
   "metadata": {},
   "outputs": [
    {
     "data": {
      "text/plain": [
       "['d', 'e', 'n', 'e', 'm', 'e']"
      ]
     },
     "execution_count": 19,
     "metadata": {},
     "output_type": "execute_result"
    }
   ],
   "source": [
    "myList2"
   ]
  },
  {
   "cell_type": "code",
   "execution_count": 20,
   "id": "fcda4576",
   "metadata": {},
   "outputs": [],
   "source": [
    "myList2=[1]"
   ]
  },
  {
   "cell_type": "code",
   "execution_count": 21,
   "id": "38383439",
   "metadata": {},
   "outputs": [
    {
     "ename": "IndexError",
     "evalue": "list index out of range",
     "output_type": "error",
     "traceback": [
      "\u001b[1;31m---------------------------------------------------------------------------\u001b[0m",
      "\u001b[1;31mIndexError\u001b[0m                                Traceback (most recent call last)",
      "Cell \u001b[1;32mIn[21], line 1\u001b[0m\n\u001b[1;32m----> 1\u001b[0m \u001b[38;5;28mprint\u001b[39m(myList2[\u001b[38;5;241m1\u001b[39m])\n",
      "\u001b[1;31mIndexError\u001b[0m: list index out of range"
     ]
    }
   ],
   "source": [
    "print(myList2[1])"
   ]
  },
  {
   "cell_type": "code",
   "execution_count": null,
   "id": "3ffe2ddc",
   "metadata": {},
   "outputs": [],
   "source": []
  }
 ],
 "metadata": {
  "kernelspec": {
   "display_name": "base",
   "language": "python",
   "name": "python3"
  },
  "language_info": {
   "codemirror_mode": {
    "name": "ipython",
    "version": 3
   },
   "file_extension": ".py",
   "mimetype": "text/x-python",
   "name": "python",
   "nbconvert_exporter": "python",
   "pygments_lexer": "ipython3",
   "version": "3.13.5"
  }
 },
 "nbformat": 4,
 "nbformat_minor": 5
}
